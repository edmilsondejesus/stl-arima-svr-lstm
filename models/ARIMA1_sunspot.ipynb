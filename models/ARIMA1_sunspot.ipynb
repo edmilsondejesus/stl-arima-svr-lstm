{
  "cells": [
    {
      "cell_type": "code",
      "execution_count": 5,
      "metadata": {
        "colab": {
          "base_uri": "https://localhost:8080/"
        },
        "id": "zn-dHka6KWJP",
        "outputId": "38837bf8-08fa-45ab-92df-0b4cf4c422f0"
      },
      "outputs": [],
      "source": [
        "#!pip install seaborn\n",
        "#!pip install openpyxl\n",
        "#!pip install pmdarima"
      ]
    },
    {
      "cell_type": "code",
      "execution_count": 6,
      "metadata": {
        "id": "naOfrff2U2Xy"
      },
      "outputs": [],
      "source": [
        "import pandas as pd\n",
        "import numpy as np\n",
        "import random as rd\n",
        "import time\n",
        "import csv\n",
        "import seaborn as sbs\n",
        "from sklearn.model_selection import RepeatedStratifiedKFold\n",
        "from sklearn.model_selection import train_test_split ,GridSearchCV\n",
        "import tensorflow as tf\n",
        "from tensorflow import keras\n",
        "from matplotlib import pyplot\n",
        "from pmdarima.arima import auto_arima\n",
        "from pmdarima.arima import StepwiseContext\n",
        "\n"
      ]
    },
    {
      "cell_type": "code",
      "execution_count": 7,
      "metadata": {},
      "outputs": [],
      "source": [
        "# fix random seed for reproducibility\n",
        "tf.random.set_seed(9)"
      ]
    },
    {
      "cell_type": "code",
      "execution_count": 8,
      "metadata": {
        "colab": {
          "base_uri": "https://localhost:8080/"
        },
        "id": "u5iIpJyzkmkW",
        "outputId": "b450076e-6353-4892-a940-c7d09cc8eb2e"
      },
      "outputs": [],
      "source": [
        "# #from google.colab import drive\n",
        "#drive.mount('/content/drive')\n",
        "file_data = 'SN_m_tot_V2.0.csv'\n",
        "path_name='../datasets/'\n",
        "path_name_results='../results/'\n",
        "file_result = 'Result_ARIMA_sunspot.csv'"
      ]
    },
    {
      "cell_type": "code",
      "execution_count": 9,
      "metadata": {
        "id": "JPemdWEukqf-"
      },
      "outputs": [
        {
          "data": {
            "text/html": [
              "<div>\n",
              "<style scoped>\n",
              "    .dataframe tbody tr th:only-of-type {\n",
              "        vertical-align: middle;\n",
              "    }\n",
              "\n",
              "    .dataframe tbody tr th {\n",
              "        vertical-align: top;\n",
              "    }\n",
              "\n",
              "    .dataframe thead th {\n",
              "        text-align: right;\n",
              "    }\n",
              "</style>\n",
              "<table border=\"1\" class=\"dataframe\">\n",
              "  <thead>\n",
              "    <tr style=\"text-align: right;\">\n",
              "      <th></th>\n",
              "      <th>date</th>\n",
              "      <th>num_observations</th>\n",
              "    </tr>\n",
              "  </thead>\n",
              "  <tbody>\n",
              "    <tr>\n",
              "      <th>0</th>\n",
              "      <td>1749.123</td>\n",
              "      <td>104.3</td>\n",
              "    </tr>\n",
              "    <tr>\n",
              "      <th>1</th>\n",
              "      <td>1749.204</td>\n",
              "      <td>116.7</td>\n",
              "    </tr>\n",
              "    <tr>\n",
              "      <th>2</th>\n",
              "      <td>1749.288</td>\n",
              "      <td>92.8</td>\n",
              "    </tr>\n",
              "    <tr>\n",
              "      <th>3</th>\n",
              "      <td>1749.371</td>\n",
              "      <td>141.7</td>\n",
              "    </tr>\n",
              "    <tr>\n",
              "      <th>4</th>\n",
              "      <td>1749.455</td>\n",
              "      <td>139.2</td>\n",
              "    </tr>\n",
              "  </tbody>\n",
              "</table>\n",
              "</div>"
            ],
            "text/plain": [
              "       date  num_observations\n",
              "0  1749.123             104.3\n",
              "1  1749.204             116.7\n",
              "2  1749.288              92.8\n",
              "3  1749.371             141.7\n",
              "4  1749.455             139.2"
            ]
          },
          "execution_count": 9,
          "metadata": {},
          "output_type": "execute_result"
        }
      ],
      "source": [
        "\n",
        "dataset = pd.read_csv(f'{path_name}{file_data}', sep =';', encoding = 'latin1', decimal='.',usecols=[2,3])\n",
        "dataset.columns = ['date','num_observations']\n",
        "dataset.head()\n",
        "#dataset = pd.read_csv(f'{path_name}{file_data}', sep =';', encoding = 'latin1', decimal='.')\n",
        "#dataset.columns = ['year','month', 'date','total_sunspot_number','std_derivation','num_observations','def_prov_indicator']\n",
        "#dataset.head()\n",
        "\n"
      ]
    },
    {
      "cell_type": "code",
      "execution_count": 10,
      "metadata": {},
      "outputs": [
        {
          "name": "stdout",
          "output_type": "stream",
          "text": [
            "<class 'pandas.core.frame.DataFrame'>\n",
            "RangeIndex: 3295 entries, 0 to 3294\n",
            "Data columns (total 2 columns):\n",
            " #   Column            Non-Null Count  Dtype  \n",
            "---  ------            --------------  -----  \n",
            " 0   date              3295 non-null   float64\n",
            " 1   num_observations  3295 non-null   float64\n",
            "dtypes: float64(2)\n",
            "memory usage: 51.6 KB\n"
          ]
        }
      ],
      "source": [
        "dataset.info()"
      ]
    },
    {
      "cell_type": "code",
      "execution_count": 11,
      "metadata": {
        "colab": {
          "base_uri": "https://localhost:8080/"
        },
        "id": "6o1Ml8Hwk11N",
        "outputId": "0579fc40-d3de-4226-f308-b563ad07db61"
      },
      "outputs": [
        {
          "data": {
            "text/plain": [
              "date                0\n",
              "num_observations    0\n",
              "dtype: int64"
            ]
          },
          "execution_count": 11,
          "metadata": {},
          "output_type": "execute_result"
        }
      ],
      "source": [
        "#verifica se existe variáveis nulas \n",
        "dataset.isna().sum()"
      ]
    },
    {
      "cell_type": "code",
      "execution_count": 12,
      "metadata": {
        "colab": {
          "base_uri": "https://localhost:8080/",
          "height": 363
        },
        "id": "tWk39SDZk6q_",
        "outputId": "9a4227ec-74a2-458d-a8ba-ff563308af44"
      },
      "outputs": [],
      "source": [
        "def salvar_resultado(nm_dataset, ds_best_param, n_time_steps, MSE, RMSE, MAE, MAPE, sMAPE, Duration):\n",
        "  #Script to write training cycle results\n",
        "  data = [nm_dataset, ds_best_param, n_time_steps, MSE, RMSE, MAE, MAPE, sMAPE, Duration]\n",
        "  fields = ['Dataset','Best Params','n_time_steps','MSE', 'RMSE', 'MAE', 'MAPE','sMAPE','Duration']\n",
        "  with open(f'{path_name_results}{file_result}', \"a\",newline='') as csv_file:\n",
        "    writer = csv.writer(csv_file,delimiter=';')\n",
        "    writer.writerow(data)  \n",
        "  print(fields)\n",
        "  print(data)\n",
        "    \n",
        "#Script to create the results file\n",
        "def criar_arquivo_resultado():\n",
        "  fields = ['Dataset','Best Params','n_time_steps','MSE', 'RMSE', 'MAE','MAPE','sMAPE','Duration']\n",
        "  with open(f'{path_name_results}{file_result}', \"w\",newline='') as csv_file:\n",
        "    writer = csv.writer(csv_file,delimiter=';')\n",
        "    writer.writerow(fields)    "
      ]
    },
    {
      "cell_type": "code",
      "execution_count": 13,
      "metadata": {},
      "outputs": [],
      "source": [
        "# convert an array of values into a dataset matrix\n",
        "def create_matrix_dataset(dataset, n_time_steps=1):\n",
        " #transformação da série => janela deslizande com n_time_steps passo de tempo    \n",
        " #tratando o dataframe\n",
        " df = pd.DataFrame()\n",
        " df['date']=dataset['date']\n",
        " df['vl_0']=dataset['num_observations']\n",
        "\n",
        " #n_time_steps=12\n",
        " for n_step in range(1,n_time_steps+1,1):   \n",
        "   df['vl_' + str(n_step)] = dataset['num_observations'].shift(n_step)\n",
        " df.dropna(inplace=True)\n",
        " return np.array(df.drop(columns=['date','vl_0'])), np.array(df['vl_0'])\n",
        "\n",
        "# convert dataset values into a dataset matrix\n",
        "def create_dataset(dataset, n_time_steps=1):\n",
        " #transformação da série => janela deslizande com n_time_steps passo de tempo    \n",
        " #tratando o dataframe\n",
        " df = pd.DataFrame()\n",
        " df['date']=dataset['date']\n",
        " df['vl_0']=dataset['num_observations']\n",
        "\n",
        " #n_time_steps=12\n",
        " for n_step in range(1,n_time_steps+1,1):   \n",
        "   df['vl_' + str(n_step)] = dataset['num_observations'].shift(n_step)\n",
        " df.dropna(inplace=True)\n",
        " return df"
      ]
    },
    {
      "cell_type": "code",
      "execution_count": 14,
      "metadata": {},
      "outputs": [],
      "source": [
        "  \n",
        "def save_model(model,n_time_steps):\n",
        "  # serialize model to JSON\n",
        "  model_json = model.to_json()\n",
        "  with open(f'{path_name_results}model_{n_time_steps}.json', \"w\") as json_file:\n",
        "    json_file.write(model_json)\n",
        "\n",
        "  # serialize weights to HDF5\n",
        "  model.save_weights(f'{path_name_results}model_{n_time_steps}.h5')\n",
        "  print(\"Saved model to disk\")\n"
      ]
    },
    {
      "cell_type": "code",
      "execution_count": 15,
      "metadata": {},
      "outputs": [],
      "source": [
        "def gera_resultado(y_test, predict,nm_dataset, resultado, n_time_steps, Duracao):\n",
        " #Mean Squared Error (Mean Squared Difference Between Estimated Values and Actual Values) - MSE\n",
        " MSE = mean_squared_error(y_test, predict)    \n",
        " #Square Root of Mean Error - RMSE\n",
        " RMSE = np.sqrt(mean_squared_error(y_test, predict))    \n",
        " #Mean Absolute Distance or Mean Absolute Error - MAE\n",
        " MAE= median_absolute_error(y_pred=predict, y_true = y_test) \n",
        "  \n",
        " #Calculate the MAPE (Mean Absolute Percentage Error)\n",
        " MAPE = ((np.mean(np.abs(y_test -predict) / (y_test)))) * 100   \n",
        "  \n",
        " sMAPE = round(\n",
        " \tnp.mean(\n",
        " \t\tnp.abs(predict - y_test) /\n",
        " \t\t((np.abs(predict) + np.abs(y_test)))\n",
        " \t)*100, 2\n",
        " ) \n",
        " salvar_resultado(nm_dataset, resultado, n_time_steps, MSE, RMSE, MAE, MAPE, sMAPE, Duracao)\n",
        " return MAPE"
      ]
    },
    {
      "cell_type": "code",
      "execution_count": 16,
      "metadata": {},
      "outputs": [
        {
          "data": {
            "text/plain": [
              "array([<AxesSubplot:xlabel='date'>], dtype=object)"
            ]
          },
          "execution_count": 16,
          "metadata": {},
          "output_type": "execute_result"
        },
        {
          "data": {
            "image/png": "[encoded data removed]",
            "text/plain": [
              "<Figure size 432x288 with 1 Axes>"
            ]
          },
          "metadata": {
            "needs_background": "light"
          },
          "output_type": "display_data"
        }
      ],
      "source": [
        "# indexing timestamp\n",
        "dataset.set_index('date').plot(subplots=True)"
      ]
    },
    {
      "cell_type": "code",
      "execution_count": 17,
      "metadata": {},
      "outputs": [],
      "source": [
        "n_time_steps = 2\n",
        "nm_dataset = 'sunspot'\n",
        " \n",
        "#Split dataset in treinam /  80% treinam  20% test\n",
        "nlinhas = int(len(dataset) * 0.80)\n",
        "test = dataset.iloc[nlinhas:len(dataset),:]  \n",
        "train = dataset.iloc[0:nlinhas,:] \n",
        "#  reshape into X=t and Y=t+1 ot n_time_steps by steps\n",
        "X_train, Y_train = create_matrix_dataset(train, n_time_steps)\n",
        "X_test, Y_test = create_matrix_dataset(test, n_time_steps) "
      ]
    },
    {
      "cell_type": "code",
      "execution_count": 18,
      "metadata": {},
      "outputs": [
        {
          "data": {
            "text/plain": [
              "array([<AxesSubplot:xlabel='date'>, <AxesSubplot:xlabel='date'>,\n",
              "       <AxesSubplot:xlabel='date'>], dtype=object)"
            ]
          },
          "execution_count": 18,
          "metadata": {},
          "output_type": "execute_result"
        },
        {
          "data": {
            "image/png": "[encoded data removed]",
            "text/plain": [
              "<Figure size 432x288 with 3 Axes>"
            ]
          },
          "metadata": {
            "needs_background": "light"
          },
          "output_type": "display_data"
        }
      ],
      "source": [
        "# indexing timeserires\n",
        "ts_df=create_dataset(dataset, n_time_steps)\n",
        "ts_df.set_index('date').plot(subplots=True)"
      ]
    },
    {
      "cell_type": "code",
      "execution_count": 19,
      "metadata": {},
      "outputs": [
        {
          "data": {
            "text/plain": [
              "(0.01, 0)"
            ]
          },
          "execution_count": 19,
          "metadata": {},
          "output_type": "execute_result"
        }
      ],
      "source": [
        "Y_train = Y_train.reshape(-1,1)\n",
        "Y_test=Y_test.reshape(-1,1)\n",
        "\n",
        "# Armazena a hora de início da execução do Treinamento\n",
        "Hora_Inicio = time.time()\n",
        "\n",
        "# Estimate the differences number using ADF test\n",
        "from pmdarima.arima.stationarity import ADFTest\n",
        "\n",
        "# significance level alpha=0.05\n",
        "ADF_test = ADFTest(alpha=0.05)\n",
        "p_val, should_diff = ADF_test.should_diff(Y_train)  \n",
        "\n",
        "if(should_diff):  # if  should_diff is true \n",
        "    d=should_diff\n",
        "else: # if  should_diff is False\n",
        "    d=0\n",
        "\n",
        "p_val, d\n"
      ]
    },
    {
      "cell_type": "code",
      "execution_count": 20,
      "metadata": {},
      "outputs": [
        {
          "name": "stderr",
          "output_type": "stream",
          "text": [
            "c:\\Python\\lib\\site-packages\\pmdarima\\utils\\visualization.py:220: FutureWarning: the 'unbiased'' keyword is deprecated, use 'adjusted' instead.\n",
            "  res = tsaplots.plot_acf(\n"
          ]
        },
        {
          "data": {
            "image/png": "[encoded data removed]",
            "text/plain": [
              "<Figure size 432x288 with 1 Axes>"
            ]
          },
          "metadata": {
            "needs_background": "light"
          },
          "output_type": "display_data"
        }
      ],
      "source": [
        "# autocorrelation test\n",
        "import pmdarima as pm\n",
        "pm.plot_acf(Y_train)\n"
      ]
    },
    {
      "cell_type": "code",
      "execution_count": null,
      "metadata": {},
      "outputs": [
        {
          "name": "stdout",
          "output_type": "stream",
          "text": [
            "Performing stepwise search to minimize aic\n"
          ]
        },
        {
          "ename": "",
          "evalue": "",
          "output_type": "error",
          "traceback": [
            "\u001b[1;31mThe Kernel crashed while executing code in the the current cell or a previous cell. Please review the code in the cell(s) to identify a possible cause of the failure. Click <a href='https://aka.ms/vscodeJupyterKernelCrash'>here</a> for more info. View Jupyter <a href='command:jupyter.viewOutput'>log</a> for further details."
          ]
        }
      ],
      "source": [
        "with StepwiseContext(max_dur=50):\n",
        "    model = auto_arima(Y_train, X = X_train, stepwise=True, error_action='ignore', d=d, seasonal=True, m=12, maxiter=500, start_p=0, start_q=0, max_p=9, max_q=9,trace=True,D=None)"
      ]
    },
    {
      "cell_type": "code",
      "execution_count": 4,
      "metadata": {},
      "outputs": [
        {
          "ename": "NameError",
          "evalue": "name 'StepwiseContext' is not defined",
          "output_type": "error",
          "traceback": [
            "\u001b[1;31m---------------------------------------------------------------------------\u001b[0m",
            "\u001b[1;31mNameError\u001b[0m                                 Traceback (most recent call last)",
            "\u001b[1;32mc:\\Users\\Edmilson\\Downloads\\Doutorado\\Novo artigo\\models\\ARIMA1_sunspot.ipynb Cell 18\u001b[0m line \u001b[0;36m<cell line: 2>\u001b[1;34m()\u001b[0m\n\u001b[0;32m      <a href='vscode-notebook-cell:/c%3A/Users/Edmilson/Downloads/Doutorado/Novo%20artigo/models/ARIMA1_sunspot.ipynb#X13sZmlsZQ%3D%3D?line=0'>1</a>\u001b[0m \u001b[39m# Search for best ARIMA hiperparams.\u001b[39;00m\n\u001b[1;32m----> <a href='vscode-notebook-cell:/c%3A/Users/Edmilson/Downloads/Doutorado/Novo%20artigo/models/ARIMA1_sunspot.ipynb#X13sZmlsZQ%3D%3D?line=1'>2</a>\u001b[0m \u001b[39mwith\u001b[39;00m StepwiseContext(max_dur\u001b[39m=\u001b[39m\u001b[39m50\u001b[39m):\n\u001b[0;32m      <a href='vscode-notebook-cell:/c%3A/Users/Edmilson/Downloads/Doutorado/Novo%20artigo/models/ARIMA1_sunspot.ipynb#X13sZmlsZQ%3D%3D?line=2'>3</a>\u001b[0m     model \u001b[39m=\u001b[39m auto_arima(Y_train, X \u001b[39m=\u001b[39m X_train,\n\u001b[0;32m      <a href='vscode-notebook-cell:/c%3A/Users/Edmilson/Downloads/Doutorado/Novo%20artigo/models/ARIMA1_sunspot.ipynb#X13sZmlsZQ%3D%3D?line=3'>4</a>\u001b[0m                       seasonal\u001b[39m=\u001b[39m\u001b[39mTrue\u001b[39;00m, m\u001b[39m=\u001b[39m\u001b[39m12\u001b[39m, maxiter\u001b[39m=\u001b[39m\u001b[39m500\u001b[39m, d\u001b[39m=\u001b[39md, \n\u001b[0;32m      <a href='vscode-notebook-cell:/c%3A/Users/Edmilson/Downloads/Doutorado/Novo%20artigo/models/ARIMA1_sunspot.ipynb#X13sZmlsZQ%3D%3D?line=4'>5</a>\u001b[0m                       start_p\u001b[39m=\u001b[39m\u001b[39m0\u001b[39m, start_q\u001b[39m=\u001b[39m\u001b[39m0\u001b[39m, max_p\u001b[39m=\u001b[39m\u001b[39m9\u001b[39m, max_q\u001b[39m=\u001b[39m\u001b[39m9\u001b[39m, \n\u001b[1;32m   (...)\u001b[0m\n\u001b[0;32m      <a href='vscode-notebook-cell:/c%3A/Users/Edmilson/Downloads/Doutorado/Novo%20artigo/models/ARIMA1_sunspot.ipynb#X13sZmlsZQ%3D%3D?line=8'>9</a>\u001b[0m                       suppress_warnings\u001b[39m=\u001b[39m\u001b[39mTrue\u001b[39;00m,\n\u001b[0;32m     <a href='vscode-notebook-cell:/c%3A/Users/Edmilson/Downloads/Doutorado/Novo%20artigo/models/ARIMA1_sunspot.ipynb#X13sZmlsZQ%3D%3D?line=9'>10</a>\u001b[0m                       stepwise\u001b[39m=\u001b[39m\u001b[39mTrue\u001b[39;00m)\n",
            "\u001b[1;31mNameError\u001b[0m: name 'StepwiseContext' is not defined"
          ]
        }
      ],
      "source": [
        "# Search for best ARIMA hiperparams.\n",
        "#with StepwiseContext(max_dur=50):\n",
        "#    model = auto_arima(Y_train, X = X_train,\n",
        "##                      seasonal=True, m=12, maxiter=500, d=d, \n",
        "#                      start_p=0, start_q=0, max_p=9, max_q=9, \n",
        "#                      D=None,             # let model determine 'D'\n",
        "#                      trace=True,\n",
        "#                      error_action='ignore',  \n",
        "#                      suppress_warnings=True,\n",
        "#                      stepwise=True)"
      ]
    },
    {
      "cell_type": "code",
      "execution_count": null,
      "metadata": {},
      "outputs": [],
      "source": [
        "#print(model.params)\n",
        "model.fit(Y_train)\n",
        "resultado = model\n",
        "\n",
        "# predictiong values\n",
        "predict=model.predict(n_periods=Y_test.shape[0], X=X_test, alpha=0.05)\n",
        "predict=predict.reshape(-1,1)"
      ]
    },
    {
      "cell_type": "code",
      "execution_count": null,
      "metadata": {},
      "outputs": [
        {
          "data": {
            "text/plain": [
              "68.13438691083084"
            ]
          },
          "execution_count": 28,
          "metadata": {},
          "output_type": "execute_result"
        }
      ],
      "source": [
        "#Validação dos resultados\n",
        "\n",
        "from sklearn.metrics import r2_score\n",
        "from sklearn.metrics import mean_squared_error\n",
        "from sklearn.metrics import median_absolute_error\n",
        "\n",
        "#Erro médio quadrático  (diferença quadrática média entre os valores estimados e o valor verdadeiro) - MSE\n",
        "mean_squared_error(Y_test,predict)\n",
        "\n",
        "#Raiz quadrada do Erro médio - RMSE\n",
        "np.sqrt(mean_squared_error(Y_test, predict))\n",
        "\n"
      ]
    },
    {
      "cell_type": "code",
      "execution_count": null,
      "metadata": {},
      "outputs": [
        {
          "name": "stderr",
          "output_type": "stream",
          "text": [
            "C:\\Users\\Edmilson\\AppData\\Local\\Temp\\ipykernel_13244\\3381292061.py:2: RuntimeWarning: divide by zero encountered in true_divide\n",
            "  MAPE = ((np.mean(np.abs(Y_test -predict) / (Y_test)))) * 100\n"
          ]
        },
        {
          "data": {
            "text/plain": [
              "inf"
            ]
          },
          "execution_count": 29,
          "metadata": {},
          "output_type": "execute_result"
        }
      ],
      "source": [
        "#Calcular o MAPE (Erro médio percentual absoluto)\n",
        "MAPE = ((np.mean(np.abs(Y_test -predict) / (Y_test)))) * 100\n",
        "MAPE"
      ]
    },
    {
      "cell_type": "code",
      "execution_count": null,
      "metadata": {},
      "outputs": [
        {
          "data": {
            "text/plain": [
              "<AxesSubplot:xlabel='date'>"
            ]
          },
          "execution_count": 23,
          "metadata": {},
          "output_type": "execute_result"
        },
        {
          "data": {
            "image/png": "[encoded data removed]",
            "text/plain": [
              "<Figure size 432x288 with 1 Axes>"
            ]
          },
          "metadata": {
            "needs_background": "light"
          },
          "output_type": "display_data"
        }
      ],
      "source": [
        "df_predict = pd.DataFrame(predict)\n",
        "\n",
        "new_df=pd.DataFrame()\n",
        "total=nlinhas+len(df_predict)\n",
        "new_df['real']=(dataset.iloc[0:total,1])\n",
        "new_df['date']=dataset.iloc[0:total,0]\n",
        "new_df['predict']=pd.concat([dataset.iloc[0:nlinhas,1],df_predict],ignore_index=True)\n",
        "new_df.set_index('date').plot()"
      ]
    },
    {
      "cell_type": "code",
      "execution_count": null,
      "metadata": {},
      "outputs": [
        {
          "data": {
            "text/html": [
              "<div>\n",
              "<style scoped>\n",
              "    .dataframe tbody tr th:only-of-type {\n",
              "        vertical-align: middle;\n",
              "    }\n",
              "\n",
              "    .dataframe tbody tr th {\n",
              "        vertical-align: top;\n",
              "    }\n",
              "\n",
              "    .dataframe thead th {\n",
              "        text-align: right;\n",
              "    }\n",
              "</style>\n",
              "<table border=\"1\" class=\"dataframe\">\n",
              "  <thead>\n",
              "    <tr style=\"text-align: right;\">\n",
              "      <th></th>\n",
              "      <th>real</th>\n",
              "      <th>date</th>\n",
              "      <th>predict</th>\n",
              "    </tr>\n",
              "  </thead>\n",
              "  <tbody>\n",
              "    <tr>\n",
              "      <th>0</th>\n",
              "      <td>104.3</td>\n",
              "      <td>1749.123</td>\n",
              "      <td>104.300000</td>\n",
              "    </tr>\n",
              "    <tr>\n",
              "      <th>1</th>\n",
              "      <td>116.7</td>\n",
              "      <td>1749.204</td>\n",
              "      <td>116.700000</td>\n",
              "    </tr>\n",
              "    <tr>\n",
              "      <th>2</th>\n",
              "      <td>92.8</td>\n",
              "      <td>1749.288</td>\n",
              "      <td>92.800000</td>\n",
              "    </tr>\n",
              "    <tr>\n",
              "      <th>3</th>\n",
              "      <td>141.7</td>\n",
              "      <td>1749.371</td>\n",
              "      <td>141.700000</td>\n",
              "    </tr>\n",
              "    <tr>\n",
              "      <th>4</th>\n",
              "      <td>139.2</td>\n",
              "      <td>1749.455</td>\n",
              "      <td>139.200000</td>\n",
              "    </tr>\n",
              "    <tr>\n",
              "      <th>...</th>\n",
              "      <td>...</td>\n",
              "      <td>...</td>\n",
              "      <td>...</td>\n",
              "    </tr>\n",
              "    <tr>\n",
              "      <th>3288</th>\n",
              "      <td>111.3</td>\n",
              "      <td>2023.122</td>\n",
              "      <td>83.247000</td>\n",
              "    </tr>\n",
              "    <tr>\n",
              "      <th>3289</th>\n",
              "      <td>123.3</td>\n",
              "      <td>2023.204</td>\n",
              "      <td>83.246991</td>\n",
              "    </tr>\n",
              "    <tr>\n",
              "      <th>3290</th>\n",
              "      <td>96.4</td>\n",
              "      <td>2023.286</td>\n",
              "      <td>83.246982</td>\n",
              "    </tr>\n",
              "    <tr>\n",
              "      <th>3291</th>\n",
              "      <td>137.9</td>\n",
              "      <td>2023.371</td>\n",
              "      <td>83.246973</td>\n",
              "    </tr>\n",
              "    <tr>\n",
              "      <th>3292</th>\n",
              "      <td>163.4</td>\n",
              "      <td>2023.453</td>\n",
              "      <td>83.246964</td>\n",
              "    </tr>\n",
              "  </tbody>\n",
              "</table>\n",
              "<p>3293 rows × 3 columns</p>\n",
              "</div>"
            ],
            "text/plain": [
              "       real      date     predict\n",
              "0     104.3  1749.123  104.300000\n",
              "1     116.7  1749.204  116.700000\n",
              "2      92.8  1749.288   92.800000\n",
              "3     141.7  1749.371  141.700000\n",
              "4     139.2  1749.455  139.200000\n",
              "...     ...       ...         ...\n",
              "3288  111.3  2023.122   83.247000\n",
              "3289  123.3  2023.204   83.246991\n",
              "3290   96.4  2023.286   83.246982\n",
              "3291  137.9  2023.371   83.246973\n",
              "3292  163.4  2023.453   83.246964\n",
              "\n",
              "[3293 rows x 3 columns]"
            ]
          },
          "execution_count": 130,
          "metadata": {},
          "output_type": "execute_result"
        }
      ],
      "source": [
        "new_df"
      ]
    },
    {
      "cell_type": "markdown",
      "metadata": {
        "id": "MEevt86uejTw"
      },
      "source": [
        "\n"
      ]
    },
    {
      "cell_type": "code",
      "execution_count": null,
      "metadata": {},
      "outputs": [],
      "source": [
        "Hora_Fim = time.time()   \n",
        "#Calculate the duration of the training execution\n",
        "Duracao = Hora_Fim - Hora_Inicio   \n",
        "\n",
        "#calc metrics of error and save in file\n",
        "gera_resultado(Y_test, predict,nm_dataset, resultado, n_time_steps, Duracao)"
      ]
    }
  ],
  "metadata": {
    "colab": {
      "provenance": []
    },
    "kernelspec": {
      "display_name": "Python 3.9.5 64-bit",
      "language": "python",
      "name": "python3"
    },
    "language_info": {
      "codemirror_mode": {
        "name": "ipython",
        "version": 3
      },
      "file_extension": ".py",
      "mimetype": "text/x-python",
      "name": "python",
      "nbconvert_exporter": "python",
      "pygments_lexer": "ipython3",
      "version": "3.9.5"
    },
    "vscode": {
      "interpreter": {
        "hash": "52634da84371cba311ea128a5ea7cdc41ff074b781779e754b270ff9f8153cee"
      }
    }
  },
  "nbformat": 4,
  "nbformat_minor": 0
}
