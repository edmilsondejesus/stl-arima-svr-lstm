{
  "cells": [
    {
      "cell_type": "code",
      "execution_count": 1,
      "metadata": {},
      "outputs": [],
      "source": [
        "#!pip install seaborn\n",
        "#!pip install openpyxl\n",
        "#!pip install sklearn\n",
        "#!pip install yfinance "
      ]
    },
    {
      "cell_type": "code",
      "execution_count": 2,
      "metadata": {
        "id": "naOfrff2U2Xy"
      },
      "outputs": [],
      "source": [
        "import pandas as pd\n",
        "import numpy as np\n",
        "import random as rd\n",
        "import time\n",
        "import csv\n",
        "import seaborn as sbs\n",
        "import yfinance as yf\n",
        "from sklearn.model_selection import RepeatedStratifiedKFold\n",
        "from sklearn.model_selection import train_test_split ,GridSearchCV\n",
        "from sklearn.model_selection import TimeSeriesSplit\n",
        "from sklearn.neural_network import MLPRegressor\n",
        "import tensorflow as tf\n",
        "from tensorflow import keras\n",
        "from matplotlib import pyplot\n",
        "from sklearn.metrics import mean_squared_error\n",
        "from sklearn.metrics import median_absolute_error\n"
      ]
    },
    {
      "cell_type": "code",
      "execution_count": 3,
      "metadata": {
        "colab": {
          "base_uri": "https://localhost:8080/"
        },
        "id": "u5iIpJyzkmkW",
        "outputId": "00380b11-657f-4c91-cbc3-1194bcb79e40"
      },
      "outputs": [],
      "source": [
        "path_name_results='../results/'\n",
        "file_result = 'Result_MLP_TSLA_stock_prices.csv'"
      ]
    },
    {
      "cell_type": "code",
      "execution_count": 4,
      "metadata": {},
      "outputs": [
        {
          "name": "stdout",
          "output_type": "stream",
          "text": [
            "[*********************100%%**********************]  1 of 1 completed\n"
          ]
        }
      ],
      "source": [
        "# Define the stock symbol (Tesla)\n",
        "stock_symbol = \"TSLA\"\n",
        "\n",
        "# Define the start and end dates for the historical data\n",
        "start_date = \"2017-01-01\"\n",
        "end_date = \"2023-09-21\"\n",
        "\n",
        "# Download historical data\n",
        "dataset = yf.download(stock_symbol, start=start_date, end=end_date)"
      ]
    },
    {
      "cell_type": "code",
      "execution_count": 5,
      "metadata": {
        "id": "JPemdWEukqf-"
      },
      "outputs": [
        {
          "name": "stdout",
          "output_type": "stream",
          "text": [
            "<class 'pandas.core.frame.DataFrame'>\n",
            "DatetimeIndex: 1690 entries, 2017-01-03 to 2023-09-20\n",
            "Data columns (total 6 columns):\n",
            " #   Column     Non-Null Count  Dtype  \n",
            "---  ------     --------------  -----  \n",
            " 0   Open       1690 non-null   float64\n",
            " 1   High       1690 non-null   float64\n",
            " 2   Low        1690 non-null   float64\n",
            " 3   Close      1690 non-null   float64\n",
            " 4   Adj Close  1690 non-null   float64\n",
            " 5   Volume     1690 non-null   int64  \n",
            "dtypes: float64(5), int64(1)\n",
            "memory usage: 92.4 KB\n"
          ]
        }
      ],
      "source": [
        "dataset.info()"
      ]
    },
    {
      "cell_type": "code",
      "execution_count": 6,
      "metadata": {
        "colab": {
          "base_uri": "https://localhost:8080/"
        },
        "id": "6o1Ml8Hwk11N",
        "outputId": "ac509433-15e6-4ba8-9a7b-c7be83813f97"
      },
      "outputs": [
        {
          "data": {
            "text/plain": [
              "Open         0\n",
              "High         0\n",
              "Low          0\n",
              "Close        0\n",
              "Adj Close    0\n",
              "Volume       0\n",
              "dtype: int64"
            ]
          },
          "execution_count": 6,
          "metadata": {},
          "output_type": "execute_result"
        }
      ],
      "source": [
        "#checks if there are null variables\n",
        "dataset.isna().sum()"
      ]
    },
    {
      "cell_type": "code",
      "execution_count": 7,
      "metadata": {},
      "outputs": [],
      "source": [
        "def salvar_resultado(nm_dataset, ds_best_param, n_time_steps, MSE, RMSE, MAE, MAPE, sMAPE, Duration):\n",
        "  #Script to write training cycle results\n",
        "  data = [nm_dataset, ds_best_param, n_time_steps, MSE, RMSE, MAE, MAPE, sMAPE, Duration]\n",
        "  fields = ['Dataset','Best Params','n_time_steps','MSE', 'RMSE', 'MAE','MAPE','sMAPE','Duration']\n",
        "  with open(f'{path_name_results}{file_result}', \"a\",newline='') as csv_file:\n",
        "    writer = csv.writer(csv_file,delimiter=';')\n",
        "    writer.writerow(data)  \n",
        "    csv_file.close()\n",
        "  print(fields)\n",
        "  print(data)\n",
        "    \n",
        "#Script to create the results file\n",
        "def criar_arquivo_resultado():\n",
        "  fields = ['Dataset','Best Params','n_time_steps','MSE', 'RMSE', 'MAE','MAPE','sMAPE','Duration']\n",
        "  with open(f'{path_name_results}{file_result}', \"w\",newline='') as csv_file:\n",
        "    writer = csv.writer(csv_file,delimiter=';')\n",
        "    writer.writerow(fields)    "
      ]
    },
    {
      "cell_type": "code",
      "execution_count": 8,
      "metadata": {},
      "outputs": [],
      "source": [
        "def previsao_MLP(nm_dataset, dataset, n_time_steps):\n",
        "  # dataframe tratament\n",
        "  df = pd.DataFrame()\n",
        "  df['Open']=dataset['Open']  \n",
        "\n",
        "  # time serire transform - shit 1 step time\n",
        "\n",
        "  for n_step in range(1,n_time_steps+1,1):\n",
        "    df['vl-'+str(n_step)]=dataset['Open'].shift(n_step)  \n",
        "      \n",
        "  df.dropna(inplace=True)\n",
        "  \n",
        "  \n",
        "  \n",
        "  #Split dataset in treinam /  80% treinam  20% test\n",
        "  nlinhas = int(np.round(df.shape[0] *0.80)) # \n",
        "  \n",
        "  max_size_train_split = int(np.round(nlinhas / 5)) \n",
        "  max_size__test_split = int(np.round((df.shape[0] - nlinhas) / 5))\n",
        "  size_split = 5\n",
        "  X_train = df.iloc[0:nlinhas,1: 1 + n_time_steps]\n",
        "  y_train = df.iloc[0:nlinhas,0].values\n",
        "\n",
        "  X_test = df.iloc[nlinhas:dataset.shape[0],1: 1 + n_time_steps] \n",
        "  y_test = df.iloc[nlinhas:dataset.shape[0],0].values\n",
        "  \n",
        "  \n",
        "  # Stores the training execution start time\n",
        "  Hora_Inicio = time.time()\n",
        "  \n",
        "  # Cross-validated for time series\n",
        "  ts_cv = TimeSeriesSplit(\n",
        "      n_splits=size_split, # Number of divisions\n",
        "      max_train_size=max_size_train_split,    # maximum size of each set. of training\n",
        "      gap=2, # number of samples to exclude between each training and testing set\n",
        "      test_size=max_size__test_split, # maximum size of each set. of test.\n",
        "  )\n",
        "  param_grid = {\n",
        "      'hidden_layer_sizes': [(4,6,1),(2,6,1),(6,12,1),(6,18,1)], # MLP layers\n",
        "      'max_iter': [ 500], # maximum iterations\n",
        "      'activation': [ 'relu','identity'], # activation function\n",
        "      'solver': ['adam'], # weight optimization algorithm\n",
        "      'alpha': [0.0001, 0.001, 0.01],  # alpha strength of regularization\n",
        "  }\n",
        "  \n",
        "  modelo = MLPRegressor(random_state=0)\n",
        "  \n",
        "  grid = GridSearchCV(modelo, param_grid, n_jobs= -1,scoring='neg_mean_absolute_percentage_error', cv=ts_cv, verbose=1)\n",
        "  grid.fit(np.array(X_train), np.array(y_train))\n",
        "  \n",
        "  resultado = str(grid.best_params_)\n",
        "  \n",
        "\n",
        "  predict=grid.predict(np.array(X_test))  \n",
        "\n",
        "  # Stores the training execution end time\n",
        "  Hora_Fim = time.time()  \n",
        "\n",
        "  #Calculate the duration of the training execution\n",
        "  Duracao = Hora_Fim - Hora_Inicio  \n",
        "\n",
        "  #Mean Squared Error (Mean Squared Difference Between Estimated Values and Actual Values) - MSE\n",
        "  MSE = mean_squared_error(y_test, predict)   \n",
        "\n",
        "  # Square Root of Mean Error - RMSE\n",
        "  RMSE = np.sqrt(mean_squared_error(y_test, predict))   \n",
        "\n",
        "  # Mean Absolute Distance or Mean Absolute Error - MAE\n",
        "  MAE= median_absolute_error(y_pred=predict, y_true = y_test) \n",
        "  \n",
        "  #Calculate the MAPE (Mean Absolute Percentage Error)\n",
        "  MAPE = ((np.mean(np.abs(y_test -predict) / (y_test)))) * 100   \n",
        "  \n",
        "  sMAPE = round(\n",
        "\t\tnp.mean(\n",
        "\t\t\tnp.abs(predict - y_test) /\n",
        "\t\t\t((np.abs(predict) + np.abs(y_test)))\n",
        "\t\t)*100, 2\n",
        "\t)\n",
        "\n",
        "  salvar_resultado(nm_dataset, resultado, n_time_steps, MSE, RMSE, MAE, MAPE, sMAPE, Duracao)"
      ]
    },
    {
      "cell_type": "code",
      "execution_count": 9,
      "metadata": {},
      "outputs": [
        {
          "name": "stdout",
          "output_type": "stream",
          "text": [
            "forecast for TSLA Stock prices\n",
            "Fitting 5 folds for each of 24 candidates, totalling 120 fits\n"
          ]
        },
        {
          "name": "stdout",
          "output_type": "stream",
          "text": [
            "['Dataset', 'Best Params', 'n_time_steps', 'MSE', 'RMSE', 'MAE', 'MAPE', 'sMAPE', 'Duration']\n",
            "['TSLA', \"{'activation': 'identity', 'alpha': 0.01, 'hidden_layer_sizes': (2, 6, 1), 'max_iter': 500, 'solver': 'adam'}\", 1, 70.62676696588599, 8.40397328445813, 6.360798205881338, 3.2124409899533237, 1.61, 55.0226309299469]\n",
            "Fitting 5 folds for each of 24 candidates, totalling 120 fits\n",
            "['Dataset', 'Best Params', 'n_time_steps', 'MSE', 'RMSE', 'MAE', 'MAPE', 'sMAPE', 'Duration']\n",
            "['TSLA', \"{'activation': 'identity', 'alpha': 0.01, 'hidden_layer_sizes': (2, 6, 1), 'max_iter': 500, 'solver': 'adam'}\", 2, 73.8488638562222, 8.59353616715623, 6.195806556652585, 3.2752170268097602, 1.64, 42.44075965881348]\n",
            "Fitting 5 folds for each of 24 candidates, totalling 120 fits\n"
          ]
        },
        {
          "name": "stderr",
          "output_type": "stream",
          "text": [
            "c:\\Python\\lib\\site-packages\\sklearn\\neural_network\\_multilayer_perceptron.py:692: ConvergenceWarning: Stochastic Optimizer: Maximum iterations (500) reached and the optimization hasn't converged yet.\n",
            "  warnings.warn(\n"
          ]
        },
        {
          "name": "stdout",
          "output_type": "stream",
          "text": [
            "['Dataset', 'Best Params', 'n_time_steps', 'MSE', 'RMSE', 'MAE', 'MAPE', 'sMAPE', 'Duration']\n",
            "['TSLA', \"{'activation': 'relu', 'alpha': 0.01, 'hidden_layer_sizes': (2, 6, 1), 'max_iter': 500, 'solver': 'adam'}\", 3, 91.1721293755143, 9.54840978255093, 6.787225705970343, 3.6319191493330765, 1.81, 64.05719256401062]\n",
            "Fitting 5 folds for each of 24 candidates, totalling 120 fits\n",
            "['Dataset', 'Best Params', 'n_time_steps', 'MSE', 'RMSE', 'MAE', 'MAPE', 'sMAPE', 'Duration']\n",
            "['TSLA', \"{'activation': 'relu', 'alpha': 0.01, 'hidden_layer_sizes': (2, 6, 1), 'max_iter': 500, 'solver': 'adam'}\", 4, 125.69843066831152, 11.211531147363928, 8.005687496930989, 4.290573282907041, 2.14, 23.438716650009155]\n",
            "Fitting 5 folds for each of 24 candidates, totalling 120 fits\n",
            "['Dataset', 'Best Params', 'n_time_steps', 'MSE', 'RMSE', 'MAE', 'MAPE', 'sMAPE', 'Duration']\n",
            "['TSLA', \"{'activation': 'relu', 'alpha': 0.01, 'hidden_layer_sizes': (6, 18, 1), 'max_iter': 500, 'solver': 'adam'}\", 5, 114.71062308710808, 10.71030452821525, 7.831660576277898, 4.0525477774314815, 2.02, 25.76492977142334]\n",
            "Fitting 5 folds for each of 24 candidates, totalling 120 fits\n",
            "['Dataset', 'Best Params', 'n_time_steps', 'MSE', 'RMSE', 'MAE', 'MAPE', 'sMAPE', 'Duration']\n",
            "['TSLA', \"{'activation': 'identity', 'alpha': 0.0001, 'hidden_layer_sizes': (2, 6, 1), 'max_iter': 500, 'solver': 'adam'}\", 6, 91.998647357534, 9.591592535003455, 6.920095645974328, 3.6526760852754463, 1.82, 37.683764696121216]\n",
            "Fitting 5 folds for each of 24 candidates, totalling 120 fits\n",
            "['Dataset', 'Best Params', 'n_time_steps', 'MSE', 'RMSE', 'MAE', 'MAPE', 'sMAPE', 'Duration']\n",
            "['TSLA', \"{'activation': 'identity', 'alpha': 0.0001, 'hidden_layer_sizes': (6, 12, 1), 'max_iter': 500, 'solver': 'adam'}\", 7, 106.86243738736658, 10.337428954404794, 7.315692793696016, 3.891080244555771, 1.92, 32.792667865753174]\n",
            "Fitting 5 folds for each of 24 candidates, totalling 120 fits\n"
          ]
        },
        {
          "name": "stderr",
          "output_type": "stream",
          "text": [
            "c:\\Python\\lib\\site-packages\\sklearn\\neural_network\\_multilayer_perceptron.py:692: ConvergenceWarning: Stochastic Optimizer: Maximum iterations (500) reached and the optimization hasn't converged yet.\n",
            "  warnings.warn(\n"
          ]
        },
        {
          "name": "stdout",
          "output_type": "stream",
          "text": [
            "['Dataset', 'Best Params', 'n_time_steps', 'MSE', 'RMSE', 'MAE', 'MAPE', 'sMAPE', 'Duration']\n",
            "['TSLA', \"{'activation': 'relu', 'alpha': 0.01, 'hidden_layer_sizes': (4, 6, 1), 'max_iter': 500, 'solver': 'adam'}\", 8, 138.04943134550666, 11.749443873882145, 8.422089561288288, 4.515990741971374, 2.24, 40.184664249420166]\n",
            "Fitting 5 folds for each of 24 candidates, totalling 120 fits\n"
          ]
        },
        {
          "name": "stderr",
          "output_type": "stream",
          "text": [
            "c:\\Python\\lib\\site-packages\\sklearn\\neural_network\\_multilayer_perceptron.py:692: ConvergenceWarning: Stochastic Optimizer: Maximum iterations (500) reached and the optimization hasn't converged yet.\n",
            "  warnings.warn(\n"
          ]
        },
        {
          "name": "stdout",
          "output_type": "stream",
          "text": [
            "['Dataset', 'Best Params', 'n_time_steps', 'MSE', 'RMSE', 'MAE', 'MAPE', 'sMAPE', 'Duration']\n",
            "['TSLA', \"{'activation': 'relu', 'alpha': 0.0001, 'hidden_layer_sizes': (6, 12, 1), 'max_iter': 500, 'solver': 'adam'}\", 9, 98.66746532788477, 9.93314981905965, 6.708604787729172, 3.773426955478344, 1.89, 39.355032205581665]\n",
            "Fitting 5 folds for each of 24 candidates, totalling 120 fits\n"
          ]
        },
        {
          "name": "stderr",
          "output_type": "stream",
          "text": [
            "c:\\Python\\lib\\site-packages\\sklearn\\neural_network\\_multilayer_perceptron.py:692: ConvergenceWarning: Stochastic Optimizer: Maximum iterations (500) reached and the optimization hasn't converged yet.\n",
            "  warnings.warn(\n"
          ]
        },
        {
          "name": "stdout",
          "output_type": "stream",
          "text": [
            "['Dataset', 'Best Params', 'n_time_steps', 'MSE', 'RMSE', 'MAE', 'MAPE', 'sMAPE', 'Duration']\n",
            "['TSLA', \"{'activation': 'identity', 'alpha': 0.01, 'hidden_layer_sizes': (6, 18, 1), 'max_iter': 500, 'solver': 'adam'}\", 10, 124.65218874420515, 11.164774460068827, 8.027501878957509, 4.245953693169426, 2.13, 57.47376227378845]\n",
            "Fitting 5 folds for each of 24 candidates, totalling 120 fits\n"
          ]
        },
        {
          "name": "stderr",
          "output_type": "stream",
          "text": [
            "c:\\Python\\lib\\site-packages\\sklearn\\neural_network\\_multilayer_perceptron.py:692: ConvergenceWarning: Stochastic Optimizer: Maximum iterations (500) reached and the optimization hasn't converged yet.\n",
            "  warnings.warn(\n"
          ]
        },
        {
          "name": "stdout",
          "output_type": "stream",
          "text": [
            "['Dataset', 'Best Params', 'n_time_steps', 'MSE', 'RMSE', 'MAE', 'MAPE', 'sMAPE', 'Duration']\n",
            "['TSLA', \"{'activation': 'identity', 'alpha': 0.01, 'hidden_layer_sizes': (2, 6, 1), 'max_iter': 500, 'solver': 'adam'}\", 11, 129.87808903284647, 11.396406847460584, 7.878386340657485, 4.277507434821364, 2.13, 51.183390378952026]\n",
            "Fitting 5 folds for each of 24 candidates, totalling 120 fits\n",
            "['Dataset', 'Best Params', 'n_time_steps', 'MSE', 'RMSE', 'MAE', 'MAPE', 'sMAPE', 'Duration']\n",
            "['TSLA', \"{'activation': 'identity', 'alpha': 0.01, 'hidden_layer_sizes': (4, 6, 1), 'max_iter': 500, 'solver': 'adam'}\", 12, 151.90902500920987, 12.32513793063631, 8.218863029269457, 4.621114218426463, 2.3, 48.291144609451294]\n"
          ]
        }
      ],
      "source": [
        "#create file to results\n",
        "criar_arquivo_resultado()\n",
        "\n",
        "print('forecast for TSLA Stock prices')\n",
        "for n_time_steps in range(1,13): #predict with 1 to 12 past values of medition\n",
        "    grid = previsao_MLP('TSLA', dataset, n_time_steps)"
      ]
    },
    {
      "attachments": {},
      "cell_type": "markdown",
      "metadata": {
        "id": "MEevt86uejTw"
      },
      "source": [
        "\n"
      ]
    }
  ],
  "metadata": {
    "colab": {
      "provenance": []
    },
    "kernelspec": {
      "display_name": "Python 3",
      "language": "python",
      "name": "python3"
    },
    "language_info": {
      "codemirror_mode": {
        "name": "ipython",
        "version": 3
      },
      "file_extension": ".py",
      "mimetype": "text/x-python",
      "name": "python",
      "nbconvert_exporter": "python",
      "pygments_lexer": "ipython3",
      "version": "3.9.5"
    }
  },
  "nbformat": 4,
  "nbformat_minor": 0
}
